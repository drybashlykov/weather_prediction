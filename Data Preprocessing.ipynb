{
 "cells": [
  {
   "cell_type": "markdown",
   "id": "25a6cf37-0eb3-4fae-8158-5967ad5ff0f8",
   "metadata": {},
   "source": [
    "<h2>Here we make a single table with all the merged data, drop or replace N/A, convert units etc.</h2>\n",
    "I believe that some data preprocessing steps should be model-specific, so until we are done with model selection, I am trying to be conservative with preprocessing"
   ]
  },
  {
   "cell_type": "code",
   "execution_count": 251,
   "id": "4e9de44d-e364-409f-b69f-87ef51bb9d5c",
   "metadata": {},
   "outputs": [],
   "source": [
    "from os import listdir\n",
    "from os.path import isfile, join\n",
    "from tqdm.notebook import tqdm\n",
    "\n",
    "import pandas as pd\n",
    "import matplotlib.pyplot as plt\n",
    "\n",
    "import numpy as np"
   ]
  },
  {
   "cell_type": "code",
   "execution_count": 252,
   "id": "97f9c033-0a95-4b4d-bd5b-128c1174694a",
   "metadata": {},
   "outputs": [],
   "source": [
    "# Cool one-liner by pycruft on stackoverflow\n",
    "# https://stackoverflow.com/questions/3207219/how-do-i-list-all-files-of-a-directory\n",
    "\n",
    "path = \"saved_tables\"\n",
    "\n",
    "files = [f for f in listdir(path) if isfile(join(path, f))]"
   ]
  },
  {
   "cell_type": "code",
   "execution_count": 253,
   "id": "4c1b9b29-8606-4d40-87bd-a671cacb730f",
   "metadata": {},
   "outputs": [
    {
     "data": {
      "application/vnd.jupyter.widget-view+json": {
       "model_id": "8af93745fd1b45a886f757ef5d8e3455",
       "version_major": 2,
       "version_minor": 0
      },
      "text/plain": [
       "Merging File:   0%|          | 0/3619 [00:00<?, ?it/s]"
      ]
     },
     "metadata": {},
     "output_type": "display_data"
    }
   ],
   "source": [
    "data = pd.DataFrame()\n",
    "\n",
    "for file in tqdm(files, desc=\"Merging File\"):\n",
    "    table = pd.read_csv(join(path, file), index_col=0) # Read from file\n",
    "    \n",
    "    # The scraped tables feature a number of rows filled with NaNs in the end for some reason - here we get rid of them\n",
    "    table = table.dropna(how=\"all\") \n",
    "    \n",
    "    table.insert(0, \"Date\", file[:-4]) # BAD - I don't like in-place operations\n",
    "    data = pd.concat((data, table)) # Append to the resulting dataframe"
   ]
  },
  {
   "cell_type": "markdown",
   "id": "76a86685-78bf-40f1-9acf-e6143f83b6ed",
   "metadata": {},
   "source": [
    "For feature engineering purposes, I don't want to replace neither date nor time with datetime. Keeping the date column allows to formulate the question \"Will it rain tomorrow\" more easily and the time column might be essential for predictions because it keeps information on the phase in it. Might also be important to add sunset and sunrise info later.\n",
    "\n",
    "So, here I just make sure that date and time are in their appropriate formats and add datetime as a separate column."
   ]
  },
  {
   "cell_type": "code",
   "execution_count": 254,
   "id": "d3199eca-d782-4aaf-b755-ae8410a10c74",
   "metadata": {},
   "outputs": [],
   "source": [
    "data[\"Date\"] = pd.to_datetime(data[\"Date\"], format=\"%Y-%m-%d\")\n",
    "\n",
    "# I could use to_datetime and to_timedelta, but in my case this is more elegant:\n",
    "\n",
    "# Split on : or whitespace (before AM/PM)\n",
    "hrs, mins, AM_PM = data[\"Time\"].str.split(\":|\\s\", n=2, expand=True).values.T\n",
    "\n",
    "PM = (AM_PM == \"PM\").astype(int)\n",
    "AM12 = (hrs != \"12\").astype(int) # Mathematically, 12:30 PM is actually 12:30 AM\n",
    "\n",
    "# Convert into minutes. Multiplying by AM12 prevents adding 12 hours to times like 12:30 PM.\n",
    "mins_into_day = PM * 12 * 60 * AM12 + hrs.astype(int) * 60 + mins.astype(int)\n",
    "data.insert(0, \"mins_into_day\", value=mins_into_day)"
   ]
  },
  {
   "cell_type": "markdown",
   "id": "16a14a49-e776-40bc-9ad5-f30960f5fc0f",
   "metadata": {},
   "source": [
    "Convert temperature and dew point to Kelvin"
   ]
  },
  {
   "cell_type": "code",
   "execution_count": 255,
   "id": "ccc89f19-6caa-43ab-861c-8bab31eb21bb",
   "metadata": {},
   "outputs": [],
   "source": [
    "F = data[\"Temperature\"].str.split(expand=True).values.T[0].astype(float)\n",
    "K = (F - 32) * 5 / 9 + 273.15\n",
    "data.insert(3, column=\"Temp, K\", value=K)\n",
    "\n",
    "F = data[\"Dew Point\"].str.split(expand=True).values.T[0].astype(float)\n",
    "K = (F - 32) * 5 / 9 + 273.15\n",
    "data.insert(5, column=\"Dew Point, K\", value=K)"
   ]
  },
  {
   "cell_type": "markdown",
   "id": "6e1c2f6f-97a2-4523-85ea-e7b5c7bd5368",
   "metadata": {},
   "source": [
    "Convert wind speed to m/s. Wind Gust is ignored because it is reported as always at 0."
   ]
  },
  {
   "cell_type": "code",
   "execution_count": 256,
   "id": "862c3ff9-ec35-4b26-bb31-78bb97ba78fc",
   "metadata": {},
   "outputs": [],
   "source": [
    "data[\"Wind Speed, m/s\"] = data[\"Wind Speed\"].str.split(expand=True).values.T[0].astype(float) * 0.44704"
   ]
  },
  {
   "cell_type": "markdown",
   "id": "280b101c-df43-4a22-8528-efad2742f553",
   "metadata": {},
   "source": [
    "Format humidity"
   ]
  },
  {
   "cell_type": "code",
   "execution_count": 257,
   "id": "e2f4ac38-dd10-4f25-b217-ee227e29083a",
   "metadata": {},
   "outputs": [],
   "source": [
    "data[\"Humidity\"] = data[\"Humidity\"].str.split(expand=True).values.T[0].astype(float)"
   ]
  },
  {
   "cell_type": "markdown",
   "id": "5fc65dac-c383-4afa-87ba-bc63085be100",
   "metadata": {},
   "source": [
    "Convert pressure to pascals"
   ]
  },
  {
   "cell_type": "code",
   "execution_count": 258,
   "id": "7e292ac0-bad3-4289-b659-1ea57c687d49",
   "metadata": {},
   "outputs": [],
   "source": [
    "data[\"Pressure, Pa\"] = data[\"Pressure\"].str.split(expand=True).values.T[0].astype(float) * 3386.39"
   ]
  },
  {
   "cell_type": "markdown",
   "id": "6db9f64b-5c6c-4930-829e-8c88f9867dfc",
   "metadata": {},
   "source": [
    "Ordinally encode condition"
   ]
  },
  {
   "cell_type": "code",
   "execution_count": 259,
   "id": "0747664b-aaf2-4c55-a73b-0c630db3dfc0",
   "metadata": {
    "scrolled": true
   },
   "outputs": [
    {
     "data": {
      "text/plain": [
       "array(['Fair', 'Partly Cloudy', 'Mostly Cloudy', 'Drizzle', 'Light Rain',\n",
       "       'Rain', 'Thunder / Wintry Mix', 'Light Rain with Thunder',\n",
       "       'Patches of Fog', 'Fair / Windy', 'Mostly Cloudy / Windy',\n",
       "       'Rain / Windy', 'Thunder', 'T-Storm', 'Rain and Sleet',\n",
       "       'Thunder in the Vicinity', 'Thunder / Wintry Mix / Windy',\n",
       "       'Hail / Windy', 'Heavy Rain', 'Cloudy', 'Mist', 'Haze',\n",
       "       'Widespread Dust', 'Heavy Rain Shower', 'Heavy T-Storm',\n",
       "       'Patches of Fog / Windy', 'Partly Cloudy / Windy',\n",
       "       'Thunder / Windy', 'T-Storm / Windy', 'Light Rain / Windy',\n",
       "       'Rain Shower', 'Hail', 'Widespread Dust / Windy',\n",
       "       'Rain Shower / Windy', 'Rain and Sleet / Windy',\n",
       "       'Thunder and Hail', 'Fog', 'Duststorm', 'Duststorm / Windy',\n",
       "       'Heavy Rain / Windy', 'Showers in the Vicinity',\n",
       "       'Heavy T-Storm / Windy', 'Haze / Windy', 'Light Drizzle'],\n",
       "      dtype=object)"
      ]
     },
     "execution_count": 259,
     "metadata": {},
     "output_type": "execute_result"
    }
   ],
   "source": [
    "data[\"Condition\"].unique()"
   ]
  },
  {
   "cell_type": "code",
   "execution_count": 9,
   "id": "58f5b107-d21e-418c-adfa-1169f5c59ee2",
   "metadata": {},
   "outputs": [],
   "source": [
    "ord_mapping = {\"Fair\": 0, \"Partly Cloudy\": 1, \"Mostly Cloudy\": 2}\n",
    "data[\"condition_ord\"] = data[\"Condition\"].map(ord_mapping)"
   ]
  },
  {
   "cell_type": "markdown",
   "id": "183fd753-cbb1-4e11-a6ce-49fb5b18125a",
   "metadata": {},
   "source": [
    "Convert wind direction to azimuth; if it is marked as \"VAR\", then set the value to -1 and later replace wind speed with 0 in such cases. It would make physical sense that if the wind direction was truly variating so much that not a single direction could be determined, then its average speed over the hour probably cancels out to 0."
   ]
  },
  {
   "cell_type": "code",
   "execution_count": 10,
   "id": "418f7715-f83f-4367-a924-efce6d8405cc",
   "metadata": {},
   "outputs": [],
   "source": [
    "az_mapping = {\"N\": 0, \"NNE\": 22.5, \"NE\": 45, \"ENE\": 67.5,\n",
    "             \"E\": 90, \"ESE\": 112.5, \"SE\": 135, \"SSE\": 157.5,\n",
    "             \"S\": 180, \"SSW\": 202.5, \"SW\": 225, \"WSW\": 247.5,\n",
    "             \"W\": 270, \"WNW\": 292.5, \"NW\": 315, \"NNW\": 337.5,\n",
    "             \"VAR\": -1}\n",
    "data[\"Wind\"] = data[\"Wind\"].map(az_mapping).astype(float)"
   ]
  },
  {
   "cell_type": "code",
   "execution_count": 66,
   "id": "eefb5761-cc94-4dc1-92e9-38ff5dfeef21",
   "metadata": {},
   "outputs": [
    {
     "data": {
      "text/html": [
       "<div>\n",
       "<style scoped>\n",
       "    .dataframe tbody tr th:only-of-type {\n",
       "        vertical-align: middle;\n",
       "    }\n",
       "\n",
       "    .dataframe tbody tr th {\n",
       "        vertical-align: top;\n",
       "    }\n",
       "\n",
       "    .dataframe thead th {\n",
       "        text-align: right;\n",
       "    }\n",
       "</style>\n",
       "<table border=\"1\" class=\"dataframe\">\n",
       "  <thead>\n",
       "    <tr style=\"text-align: right;\">\n",
       "      <th></th>\n",
       "      <th>mins_into_day</th>\n",
       "      <th>Date</th>\n",
       "      <th>Time</th>\n",
       "      <th>Temp, K</th>\n",
       "      <th>Temperature</th>\n",
       "      <th>Dew Point, K</th>\n",
       "      <th>Dew Point</th>\n",
       "      <th>Humidity</th>\n",
       "      <th>Wind</th>\n",
       "      <th>Wind Speed</th>\n",
       "      <th>Wind Gust</th>\n",
       "      <th>Pressure</th>\n",
       "      <th>Precip.</th>\n",
       "      <th>Condition</th>\n",
       "      <th>Wind Speed, m/s</th>\n",
       "      <th>Pressure, Pa</th>\n",
       "      <th>condition_ord</th>\n",
       "    </tr>\n",
       "  </thead>\n",
       "  <tbody>\n",
       "    <tr>\n",
       "      <th>0</th>\n",
       "      <td>410</td>\n",
       "      <td>2015-01-01</td>\n",
       "      <td>6:50 AM</td>\n",
       "      <td>285.927778</td>\n",
       "      <td>55 °F</td>\n",
       "      <td>278.150000</td>\n",
       "      <td>41 °F</td>\n",
       "      <td>58.0</td>\n",
       "      <td>157.5</td>\n",
       "      <td>7 °mph</td>\n",
       "      <td>0 °mph</td>\n",
       "      <td>29.97 °in</td>\n",
       "      <td>0.0 °in</td>\n",
       "      <td>Fair</td>\n",
       "      <td>3.12928</td>\n",
       "      <td>101490.1083</td>\n",
       "      <td>0.0</td>\n",
       "    </tr>\n",
       "    <tr>\n",
       "      <th>1</th>\n",
       "      <td>470</td>\n",
       "      <td>2015-01-01</td>\n",
       "      <td>7:50 AM</td>\n",
       "      <td>285.927778</td>\n",
       "      <td>55 °F</td>\n",
       "      <td>278.150000</td>\n",
       "      <td>41 °F</td>\n",
       "      <td>58.0</td>\n",
       "      <td>157.5</td>\n",
       "      <td>7 °mph</td>\n",
       "      <td>0 °mph</td>\n",
       "      <td>30.00 °in</td>\n",
       "      <td>0.0 °in</td>\n",
       "      <td>Fair</td>\n",
       "      <td>3.12928</td>\n",
       "      <td>101591.7000</td>\n",
       "      <td>0.0</td>\n",
       "    </tr>\n",
       "    <tr>\n",
       "      <th>2</th>\n",
       "      <td>530</td>\n",
       "      <td>2015-01-01</td>\n",
       "      <td>8:50 AM</td>\n",
       "      <td>288.150000</td>\n",
       "      <td>59 °F</td>\n",
       "      <td>279.261111</td>\n",
       "      <td>43 °F</td>\n",
       "      <td>55.0</td>\n",
       "      <td>112.5</td>\n",
       "      <td>6 °mph</td>\n",
       "      <td>0 °mph</td>\n",
       "      <td>30.03 °in</td>\n",
       "      <td>0.0 °in</td>\n",
       "      <td>Fair</td>\n",
       "      <td>2.68224</td>\n",
       "      <td>101693.2917</td>\n",
       "      <td>0.0</td>\n",
       "    </tr>\n",
       "    <tr>\n",
       "      <th>3</th>\n",
       "      <td>590</td>\n",
       "      <td>2015-01-01</td>\n",
       "      <td>9:50 AM</td>\n",
       "      <td>292.038889</td>\n",
       "      <td>66 °F</td>\n",
       "      <td>279.261111</td>\n",
       "      <td>43 °F</td>\n",
       "      <td>43.0</td>\n",
       "      <td>-1.0</td>\n",
       "      <td>3 °mph</td>\n",
       "      <td>0 °mph</td>\n",
       "      <td>30.06 °in</td>\n",
       "      <td>0.0 °in</td>\n",
       "      <td>Fair</td>\n",
       "      <td>1.34112</td>\n",
       "      <td>101794.8834</td>\n",
       "      <td>0.0</td>\n",
       "    </tr>\n",
       "    <tr>\n",
       "      <th>4</th>\n",
       "      <td>650</td>\n",
       "      <td>2015-01-01</td>\n",
       "      <td>10:50 AM</td>\n",
       "      <td>294.261111</td>\n",
       "      <td>70 °F</td>\n",
       "      <td>275.927778</td>\n",
       "      <td>37 °F</td>\n",
       "      <td>31.0</td>\n",
       "      <td>-1.0</td>\n",
       "      <td>2 °mph</td>\n",
       "      <td>0 °mph</td>\n",
       "      <td>30.03 °in</td>\n",
       "      <td>0.0 °in</td>\n",
       "      <td>Fair</td>\n",
       "      <td>0.89408</td>\n",
       "      <td>101693.2917</td>\n",
       "      <td>0.0</td>\n",
       "    </tr>\n",
       "    <tr>\n",
       "      <th>...</th>\n",
       "      <td>...</td>\n",
       "      <td>...</td>\n",
       "      <td>...</td>\n",
       "      <td>...</td>\n",
       "      <td>...</td>\n",
       "      <td>...</td>\n",
       "      <td>...</td>\n",
       "      <td>...</td>\n",
       "      <td>...</td>\n",
       "      <td>...</td>\n",
       "      <td>...</td>\n",
       "      <td>...</td>\n",
       "      <td>...</td>\n",
       "      <td>...</td>\n",
       "      <td>...</td>\n",
       "      <td>...</td>\n",
       "      <td>...</td>\n",
       "    </tr>\n",
       "    <tr>\n",
       "      <th>11</th>\n",
       "      <td>890</td>\n",
       "      <td>2024-12-20</td>\n",
       "      <td>2:50 PM</td>\n",
       "      <td>292.038889</td>\n",
       "      <td>66 °F</td>\n",
       "      <td>284.261111</td>\n",
       "      <td>52 °F</td>\n",
       "      <td>60.0</td>\n",
       "      <td>247.5</td>\n",
       "      <td>6 °mph</td>\n",
       "      <td>0 °mph</td>\n",
       "      <td>29.91 °in</td>\n",
       "      <td>0.0 °in</td>\n",
       "      <td>Fair</td>\n",
       "      <td>2.68224</td>\n",
       "      <td>101286.9249</td>\n",
       "      <td>0.0</td>\n",
       "    </tr>\n",
       "    <tr>\n",
       "      <th>12</th>\n",
       "      <td>950</td>\n",
       "      <td>2024-12-20</td>\n",
       "      <td>3:50 PM</td>\n",
       "      <td>292.038889</td>\n",
       "      <td>66 °F</td>\n",
       "      <td>282.038889</td>\n",
       "      <td>48 °F</td>\n",
       "      <td>52.0</td>\n",
       "      <td>270.0</td>\n",
       "      <td>5 °mph</td>\n",
       "      <td>0 °mph</td>\n",
       "      <td>29.94 °in</td>\n",
       "      <td>0.0 °in</td>\n",
       "      <td>Fair</td>\n",
       "      <td>2.23520</td>\n",
       "      <td>101388.5166</td>\n",
       "      <td>0.0</td>\n",
       "    </tr>\n",
       "    <tr>\n",
       "      <th>13</th>\n",
       "      <td>1010</td>\n",
       "      <td>2024-12-20</td>\n",
       "      <td>4:50 PM</td>\n",
       "      <td>290.927778</td>\n",
       "      <td>64 °F</td>\n",
       "      <td>284.261111</td>\n",
       "      <td>52 °F</td>\n",
       "      <td>64.0</td>\n",
       "      <td>-1.0</td>\n",
       "      <td>2 °mph</td>\n",
       "      <td>0 °mph</td>\n",
       "      <td>29.94 °in</td>\n",
       "      <td>0.0 °in</td>\n",
       "      <td>Fair</td>\n",
       "      <td>0.89408</td>\n",
       "      <td>101388.5166</td>\n",
       "      <td>0.0</td>\n",
       "    </tr>\n",
       "    <tr>\n",
       "      <th>14</th>\n",
       "      <td>1070</td>\n",
       "      <td>2024-12-20</td>\n",
       "      <td>5:50 PM</td>\n",
       "      <td>290.372222</td>\n",
       "      <td>63 °F</td>\n",
       "      <td>285.372222</td>\n",
       "      <td>54 °F</td>\n",
       "      <td>72.0</td>\n",
       "      <td>-1.0</td>\n",
       "      <td>3 °mph</td>\n",
       "      <td>0 °mph</td>\n",
       "      <td>29.97 °in</td>\n",
       "      <td>0.0 °in</td>\n",
       "      <td>Fair</td>\n",
       "      <td>1.34112</td>\n",
       "      <td>101490.1083</td>\n",
       "      <td>0.0</td>\n",
       "    </tr>\n",
       "    <tr>\n",
       "      <th>15</th>\n",
       "      <td>1130</td>\n",
       "      <td>2024-12-20</td>\n",
       "      <td>6:50 PM</td>\n",
       "      <td>289.261111</td>\n",
       "      <td>61 °F</td>\n",
       "      <td>285.372222</td>\n",
       "      <td>54 °F</td>\n",
       "      <td>77.0</td>\n",
       "      <td>-1.0</td>\n",
       "      <td>2 °mph</td>\n",
       "      <td>0 °mph</td>\n",
       "      <td>30.00 °in</td>\n",
       "      <td>0.0 °in</td>\n",
       "      <td>Fair</td>\n",
       "      <td>0.89408</td>\n",
       "      <td>101591.7000</td>\n",
       "      <td>0.0</td>\n",
       "    </tr>\n",
       "  </tbody>\n",
       "</table>\n",
       "<p>57282 rows × 17 columns</p>\n",
       "</div>"
      ],
      "text/plain": [
       "    mins_into_day       Date      Time     Temp, K Temperature  Dew Point, K  \\\n",
       "0             410 2015-01-01   6:50 AM  285.927778       55 °F    278.150000   \n",
       "1             470 2015-01-01   7:50 AM  285.927778       55 °F    278.150000   \n",
       "2             530 2015-01-01   8:50 AM  288.150000       59 °F    279.261111   \n",
       "3             590 2015-01-01   9:50 AM  292.038889       66 °F    279.261111   \n",
       "4             650 2015-01-01  10:50 AM  294.261111       70 °F    275.927778   \n",
       "..            ...        ...       ...         ...         ...           ...   \n",
       "11            890 2024-12-20   2:50 PM  292.038889       66 °F    284.261111   \n",
       "12            950 2024-12-20   3:50 PM  292.038889       66 °F    282.038889   \n",
       "13           1010 2024-12-20   4:50 PM  290.927778       64 °F    284.261111   \n",
       "14           1070 2024-12-20   5:50 PM  290.372222       63 °F    285.372222   \n",
       "15           1130 2024-12-20   6:50 PM  289.261111       61 °F    285.372222   \n",
       "\n",
       "   Dew Point  Humidity   Wind Wind Speed Wind Gust   Pressure  Precip.  \\\n",
       "0      41 °F      58.0  157.5     7 °mph    0 °mph  29.97 °in  0.0 °in   \n",
       "1      41 °F      58.0  157.5     7 °mph    0 °mph  30.00 °in  0.0 °in   \n",
       "2      43 °F      55.0  112.5     6 °mph    0 °mph  30.03 °in  0.0 °in   \n",
       "3      43 °F      43.0   -1.0     3 °mph    0 °mph  30.06 °in  0.0 °in   \n",
       "4      37 °F      31.0   -1.0     2 °mph    0 °mph  30.03 °in  0.0 °in   \n",
       "..       ...       ...    ...        ...       ...        ...      ...   \n",
       "11     52 °F      60.0  247.5     6 °mph    0 °mph  29.91 °in  0.0 °in   \n",
       "12     48 °F      52.0  270.0     5 °mph    0 °mph  29.94 °in  0.0 °in   \n",
       "13     52 °F      64.0   -1.0     2 °mph    0 °mph  29.94 °in  0.0 °in   \n",
       "14     54 °F      72.0   -1.0     3 °mph    0 °mph  29.97 °in  0.0 °in   \n",
       "15     54 °F      77.0   -1.0     2 °mph    0 °mph  30.00 °in  0.0 °in   \n",
       "\n",
       "   Condition  Wind Speed, m/s  Pressure, Pa  condition_ord  \n",
       "0       Fair          3.12928   101490.1083            0.0  \n",
       "1       Fair          3.12928   101591.7000            0.0  \n",
       "2       Fair          2.68224   101693.2917            0.0  \n",
       "3       Fair          1.34112   101794.8834            0.0  \n",
       "4       Fair          0.89408   101693.2917            0.0  \n",
       "..       ...              ...           ...            ...  \n",
       "11      Fair          2.68224   101286.9249            0.0  \n",
       "12      Fair          2.23520   101388.5166            0.0  \n",
       "13      Fair          0.89408   101388.5166            0.0  \n",
       "14      Fair          1.34112   101490.1083            0.0  \n",
       "15      Fair          0.89408   101591.7000            0.0  \n",
       "\n",
       "[57282 rows x 17 columns]"
      ]
     },
     "execution_count": 66,
     "metadata": {},
     "output_type": "execute_result"
    }
   ],
   "source": [
    "data"
   ]
  },
  {
   "cell_type": "markdown",
   "id": "37841731-1536-4ae0-b581-ebf849a1d468",
   "metadata": {},
   "source": [
    "Let's clean up the table, get rid of unneeded columns, rearrange the needed ones a bit."
   ]
  },
  {
   "cell_type": "code",
   "execution_count": 12,
   "id": "ea36771d-ce17-4f3f-8bc4-689fc48dca05",
   "metadata": {},
   "outputs": [],
   "source": [
    "data_clean = data.drop(columns=[\"Time\", \"Temperature\", \"Dew Point\", \"Humidity\", \"Wind Speed\", \"Wind Gust\", \"Pressure\", \"Precip.\", \"Condition\"])"
   ]
  },
  {
   "cell_type": "code",
   "execution_count": 13,
   "id": "d96093c9-fcf4-4413-803e-30722eeac2d9",
   "metadata": {},
   "outputs": [],
   "source": [
    "start_of_day = data_clean.groupby(\"Date\").agg({\"mins_into_day\": [\"min\"]}).values"
   ]
  },
  {
   "cell_type": "code",
   "execution_count": 20,
   "id": "67086348-907d-4192-904a-05e4a2795f18",
   "metadata": {
    "scrolled": true
   },
   "outputs": [
    {
     "data": {
      "image/png": "[encoded data removed]",
      "text/plain": [
       "<Figure size 640x480 with 1 Axes>"
      ]
     },
     "metadata": {},
     "output_type": "display_data"
    }
   ],
   "source": [
    "plt.plot(start_of_day)\n",
    "plt.show()"
   ]
  },
  {
   "cell_type": "markdown",
   "id": "8994ed39-e863-4761-98fc-d5f28c0a3588",
   "metadata": {},
   "source": [
    "We can clearly see DST in this graph. Let's adjust for it manually."
   ]
  },
  {
   "cell_type": "code",
   "execution_count": 21,
   "id": "dc6ace9d-ecb1-4d64-81f1-a2f1a41a39a7",
   "metadata": {},
   "outputs": [],
   "source": [
    "DST_list = [[\"27-03-2015\", \"25-10-2015\"],\n",
    "           [\"25-03-2016\", \"30-10-2016\"],\n",
    "           [\"24-03-2017\", \"29-10-2017\"],\n",
    "           [\"23-03-2018\", \"28-10-2018\"],\n",
    "           [\"29-03-2019\", \"27-10-2019\"],\n",
    "           [\"27-03-2020\", \"25-10-2020\"],\n",
    "           [\"26-03-2021\", \"31-10-2021\"],\n",
    "           [\"25-03-2022\", \"30-10-2022\"],\n",
    "           [\"24-03-2023\", \"29-10-2023\"],\n",
    "           [\"29-03-2024\", \"27-10-2024\"]]"
   ]
  },
  {
   "cell_type": "markdown",
   "id": "c0ef63fa-6772-4e13-bb1d-ef67c42fd0f2",
   "metadata": {},
   "source": [
    "I don't like this, I should generate it automatically. #TODO"
   ]
  },
  {
   "cell_type": "code",
   "execution_count": 25,
   "id": "42677035-79ac-4aeb-b663-7d5017bb33ff",
   "metadata": {},
   "outputs": [],
   "source": [
    "data_DST_corrected = data_clean.copy()\n",
    "\n",
    "for start, end in DST_list:\n",
    "    start_mask = data_clean.Date >= start\n",
    "    end_mask = data_clean.Date <= end\n",
    "    data_DST_corrected.loc[start_mask & end_mask, \"mins_into_day\"] = data_DST_corrected[start_mask & end_mask][\"mins_into_day\"].add(60)"
   ]
  },
  {
   "cell_type": "code",
   "execution_count": 26,
   "id": "6c7512d6-a455-4aa1-bb28-3ae8829fa6e6",
   "metadata": {},
   "outputs": [
    {
     "data": {
      "image/png": "[encoded data removed]",
      "text/plain": [
       "<Figure size 640x480 with 1 Axes>"
      ]
     },
     "metadata": {},
     "output_type": "display_data"
    }
   ],
   "source": [
    "start_of_day = data_clean.groupby(\"Date\").agg({\"mins_into_day\": [\"min\"]}).values\n",
    "start_of_day_DST_corrected = data_DST_corrected.groupby(\"Date\").agg({\"mins_into_day\": [\"min\"]}).values\n",
    "plt.plot(start_of_day)\n",
    "plt.plot(start_of_day_DST_corrected)\n",
    "plt.show()"
   ]
  },
  {
   "cell_type": "markdown",
   "id": "1fdd598b-9ae4-483e-bc8f-109c1e1a7d37",
   "metadata": {},
   "source": [
    "The next step is to merge with the rain data. "
   ]
  },
  {
   "cell_type": "markdown",
   "id": "ca53e8f4-19d7-4af5-8f14-c7f336421a56",
   "metadata": {},
   "source": [
    "<h3>A file from the Israeli Meteorological Service</h3>\n",
    "\n",
    "This covers dates from Dec 1st 2021 through Dec 20th 2024."
   ]
  },
  {
   "cell_type": "code",
   "execution_count": 107,
   "id": "fe81f1ca-d44c-4e73-82b0-411d3e4f48e1",
   "metadata": {},
   "outputs": [],
   "source": [
    "ims_rain = pd.read_csv(\"data/data_202412211441.csv\")"
   ]
  },
  {
   "cell_type": "markdown",
   "id": "e534265d-9941-4392-b0ac-1f975b2b14e0",
   "metadata": {},
   "source": [
    "These next 2 files cover the timeframe from 2012 up to Nov 30 2021 from the Refineries and the Technion meteorological stations"
   ]
  },
  {
   "cell_type": "code",
   "execution_count": 41,
   "id": "17791aae-e396-4b94-ab94-1064cbcd5f07",
   "metadata": {},
   "outputs": [],
   "source": [
    "ref_rain = pd.read_csv(\"data/haifa_ref-01012012_30112021.csv\")\n",
    "technion_rain = pd.read_csv(\"data/haifa-technion_31012009_30112021.csv\")"
   ]
  },
  {
   "cell_type": "markdown",
   "id": "f685fc18-6149-4e6b-94ad-5576ebd82e91",
   "metadata": {},
   "source": [
    "We are mainly interested in predicting rain \"the next day\", so let's check how well the data from these two stations agrees in terms of \"has it rained today\". Also, since the data scraped from wunderground only covers daytime, let's check if the same is true for rain.\n",
    "\n",
    "First things first, let's convert date and time to the same format as the rest of the data."
   ]
  },
  {
   "cell_type": "code",
   "execution_count": 182,
   "id": "2706aa36-ade9-41ed-b0ad-cc4efaa32474",
   "metadata": {
    "scrolled": true
   },
   "outputs": [
    {
     "name": "stdout",
     "output_type": "stream",
     "text": [
      "ref total:  633\n",
      "tech total:  822\n",
      "ref - tech:  63\n",
      "tech - ref:  252\n"
     ]
    }
   ],
   "source": [
    "hrs, mins, _ = ref_rain[\"Time\"].str.split(\":|\\s\", n=2, expand=True).values.T\n",
    "mins_into_day = hrs.astype(int) * 60 + mins.astype(int)\n",
    "ref_rain[\"mins_into_day\"] = mins_into_day\n",
    "ref_rain[\"Date\"] = pd.to_datetime(ref_rain[\"Date\"], format=\"%d/%m/%Y\")\n",
    "\n",
    "hrs, mins, _ = technion_rain[\"Time\"].str.split(\":|\\s\", n=2, expand=True).values.T\n",
    "mins_into_day = hrs.astype(int) * 60 + mins.astype(int)\n",
    "technion_rain[\"mins_into_day\"] = mins_into_day\n",
    "technion_rain[\"Date\"] = pd.to_datetime(technion_rain[\"Date\"], format=\"%d/%m/%Y\")\n",
    "\n",
    "refineries_rainy_days = ref_rain.Date.unique()\n",
    "technion_rainy_days = technion_rain.Date.unique()\n",
    "\n",
    "print(\"ref total: \", len(refineries_rainy_days))\n",
    "print(\"tech total: \", len(technion_rainy_days))\n",
    "print(\"ref - tech: \", len(set(refineries_rainy_days) - set(technion_rainy_days)))\n",
    "print(\"tech - ref: \", len(set(technion_rainy_days) - set(refineries_rainy_days)))"
   ]
  },
  {
   "cell_type": "markdown",
   "id": "833ceba5-b358-43cc-8500-8f1ab198f127",
   "metadata": {},
   "source": [
    "It seems that the rain events were significantly different at the Technion and at the Refineries. Since the weather data comes from the Haifa Airport, that is closer to the Refineries and at a similar elevation, I will disregard the Technion rain data for now. Let's select only the refineries data from ims_rain and merge it with the ref_rain"
   ]
  },
  {
   "cell_type": "markdown",
   "id": "585be970-fb08-4e1b-af91-790de49151b2",
   "metadata": {},
   "source": [
    "<h2>Post 2021 data</h2>"
   ]
  },
  {
   "cell_type": "code",
   "execution_count": 184,
   "id": "23011791-7a29-4c2d-ac4c-5d3823dbf247",
   "metadata": {},
   "outputs": [],
   "source": [
    "ims_rain = pd.read_csv(\"data/data_202412211441.csv\")\n",
    "\n",
    "ims_rain.loc[ims_rain[\"Rain Correction (mm)\"] == \"-\", \"Rain Correction (mm)\"] = -1\n",
    "ims_rain[\"Rain Correction (mm)\"] = ims_rain[\"Rain Correction (mm)\"].astype(float)\n",
    "ims_rain.loc[ims_rain[\"Rain Correction (mm)\"] != -1, \"Rainfall per minute (mm)\"] = ims_rain[\"Rain Correction (mm)\"]\n",
    "ims_rain[\"rain\"] = ims_rain[\"Rainfall per minute (mm)\"]"
   ]
  },
  {
   "cell_type": "code",
   "execution_count": 185,
   "id": "15d31a65-a191-44ce-a804-789e83905dcf",
   "metadata": {},
   "outputs": [],
   "source": [
    "ims_rain[\"datetime\"] = pd.to_datetime(ims_rain[\"Date & Time (Winter)\"], format = \"%d/%m/%Y %H:%M\")\n",
    "ims_rain[\"date\"] = ims_rain.datetime.dt.date\n",
    "ims_rain[\"time\"] = ims_rain.datetime.dt.time\n",
    "\n",
    "hrs, mins, _ = ims_rain[\"time\"].astype(str).str.split(\":|\\s\", n=2, expand=True).values.T\n",
    "mins_into_day = hrs.astype(int) * 60 + mins.astype(int)\n",
    "ims_rain[\"mins_into_day\"] = mins_into_day\n",
    "ims_rain.date = pd.to_datetime(ims_rain.date)"
   ]
  },
  {
   "cell_type": "code",
   "execution_count": 186,
   "id": "10b2c2b3-552f-4cff-93e1-16fa55582337",
   "metadata": {},
   "outputs": [],
   "source": [
    "ims_rain = ims_rain[ims_rain[\"Station\"] == \"Haifa Refineries_1m\"]\n",
    "daily_rain_post_2021 = ims_rain.groupby(\"date\").agg({\"rain\":\"sum\"})"
   ]
  },
  {
   "cell_type": "markdown",
   "id": "03411fec-eddd-4a5c-b65a-05ba8f455918",
   "metadata": {},
   "source": [
    "<h2>Pre-2021</h2>"
   ]
  },
  {
   "cell_type": "code",
   "execution_count": 208,
   "id": "0a2785d8-7db9-492c-a511-f47b9a9c82fb",
   "metadata": {},
   "outputs": [],
   "source": [
    "ref_rain[\"rain\"] = ref_rain[\"Calibrated Rain (mm/1min)\"]\n",
    "daily_rain_pre_2021 = ref_rain.groupby(\"Date\").agg({\"rain\":\"sum\"})"
   ]
  },
  {
   "cell_type": "markdown",
   "id": "bc42dde9-300b-4730-a308-b7acac7b2dc3",
   "metadata": {},
   "source": [
    "<h1>Merging</h1>"
   ]
  },
  {
   "cell_type": "code",
   "execution_count": 248,
   "id": "7c5a8f08-47cb-4905-ac7c-6737934de603",
   "metadata": {},
   "outputs": [],
   "source": [
    "daily_rain_post_2021.index = daily_rain_post_2021.index.rename(\"Date\")\n",
    "daily_rain = pd.concat((daily_rain_pre_2021, daily_rain_post_2021))"
   ]
  },
  {
   "cell_type": "code",
   "execution_count": 249,
   "id": "62696e83-968b-48f6-aff6-6cc1f7905dd2",
   "metadata": {},
   "outputs": [],
   "source": [
    "data = data_DST_corrected.merge(right=daily_rain, on=\"Date\", how=\"left\")\n",
    "data.loc[data[\"rain\"].isna(), \"rain\"] = 0"
   ]
  },
  {
   "cell_type": "code",
   "execution_count": 261,
   "id": "277c34fa-8101-4c5a-a2d6-f9a9b3f344ae",
   "metadata": {},
   "outputs": [],
   "source": [
    "data.to_csv(\"preprocessed_data.csv\")"
   ]
  }
 ],
 "metadata": {
  "kernelspec": {
   "display_name": "Python 3 (ipykernel)",
   "language": "python",
   "name": "python3"
  },
  "language_info": {
   "codemirror_mode": {
    "name": "ipython",
    "version": 3
   },
   "file_extension": ".py",
   "mimetype": "text/x-python",
   "name": "python",
   "nbconvert_exporter": "python",
   "pygments_lexer": "ipython3",
   "version": "3.10.11"
  }
 },
 "nbformat": 4,
 "nbformat_minor": 5
}
