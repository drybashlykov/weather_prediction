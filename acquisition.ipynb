{
 "cells": [
  {
   "cell_type": "code",
   "execution_count": 30,
   "id": "766d281b-d6b2-4cee-8a39-83fb72a22962",
   "metadata": {},
   "outputs": [],
   "source": [
    "import pandas as pd\n",
    "\n",
    "from selenium import webdriver\n",
    "from selenium.webdriver.common.by import By\n",
    "from selenium.webdriver.support.ui import WebDriverWait\n",
    "from selenium.webdriver.support import expected_conditions as EC\n",
    "from selenium.common.exceptions import TimeoutException\n",
    "\n",
    "from io import StringIO \n",
    "from tqdm.notebook import tqdm\n",
    "\n",
    "import datetime\n",
    "import time\n",
    "from datetime import datetime, timedelta"
   ]
  },
  {
   "cell_type": "code",
   "execution_count": 3,
   "id": "6e021002-9919-4812-a848-ee3346bb19f0",
   "metadata": {},
   "outputs": [],
   "source": [
    "# Make the list of dates\n",
    "\n",
    "start_date = datetime(2015, 1, 1)\n",
    "end_date = datetime.now()\n",
    "\n",
    "date_list = [(start_date + timedelta(days=i)).strftime('%Y-%m-%d')\n",
    "             for i in range((end_date - start_date).days + 1)]"
   ]
  },
  {
   "cell_type": "code",
   "execution_count": 38,
   "id": "f9b58f6c-6b9b-4dd2-9294-347548ed46db",
   "metadata": {
    "scrolled": true
   },
   "outputs": [
    {
     "data": {
      "application/vnd.jupyter.widget-view+json": {
       "model_id": "922b737985f44fc1a4b13f306285e593",
       "version_major": 2,
       "version_minor": 0
      },
      "text/plain": [
       "Scraping Pages:   0%|          | 0/2639 [00:00<?, ?it/s]"
      ]
     },
     "metadata": {},
     "output_type": "display_data"
    }
   ],
   "source": [
    "base_url = 'https://www.wunderground.com/history/daily/il/haifa/LLHA/date/'\n",
    "\n",
    "driver = webdriver.Chrome()\n",
    "\n",
    "for date in tqdm(date_list, desc=\"Scraping Pages\"):\n",
    "    try:\n",
    "        url = f\"{base_url}{date}\"\n",
    "        driver.get(url)\n",
    "        tables = WebDriverWait(driver,20).until(EC.presence_of_all_elements_located((By.CLASS_NAME, \"observation-table\")))\n",
    "        for table in tables:\n",
    "            newTable = pd.read_html(StringIO(table.get_attribute('outerHTML')))\n",
    "            if newTable:\n",
    "                newTable[0].to_csv(f\"saved_tables//{date}.csv\")\n",
    "        time.sleep(1)\n",
    "    except TimeoutException:\n",
    "        pass"
   ]
  },
  {
   "cell_type": "code",
   "execution_count": 31,
   "id": "c625dae1-2d89-4920-81eb-3d83f2a1d75f",
   "metadata": {},
   "outputs": [
    {
     "data": {
      "text/plain": [
       "'https://www.wunderground.com/history/daily/il/haifa/LLHA/date/2017-09-30'"
      ]
     },
     "execution_count": 31,
     "metadata": {},
     "output_type": "execute_result"
    }
   ],
   "source": [
    "url"
   ]
  },
  {
   "cell_type": "code",
   "execution_count": 37,
   "id": "98a69874-60b7-4407-9903-a8edabd4153d",
   "metadata": {
    "scrolled": true
   },
   "outputs": [
    {
     "data": {
      "text/plain": [
       "'2017-09-30'"
      ]
     },
     "execution_count": 37,
     "metadata": {},
     "output_type": "execute_result"
    }
   ],
   "source": [
    "date_list[1003]"
   ]
  }
 ],
 "metadata": {
  "kernelspec": {
   "display_name": "Python 3 (ipykernel)",
   "language": "python",
   "name": "python3"
  },
  "language_info": {
   "codemirror_mode": {
    "name": "ipython",
    "version": 3
   },
   "file_extension": ".py",
   "mimetype": "text/x-python",
   "name": "python",
   "nbconvert_exporter": "python",
   "pygments_lexer": "ipython3",
   "version": "3.10.11"
  }
 },
 "nbformat": 4,
 "nbformat_minor": 5
}
